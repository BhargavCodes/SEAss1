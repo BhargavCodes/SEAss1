{
 "cells": [
  {
   "cell_type": "code",
   "execution_count": 7,
   "id": "045e7459",
   "metadata": {
    "scrolled": false
   },
   "outputs": [
    {
     "name": "stdout",
     "output_type": "stream",
     "text": [
      "Enter Number of Students: 4\n",
      "Enter Marks of Student 1, Enter -1 for absent students: 99\n",
      "Enter Marks of Student 2, Enter -1 for absent students: 57\n",
      "Enter Marks of Student 3, Enter -1 for absent students: -1\n",
      "Enter Marks of Student 4, Enter -1 for absent students: 58\n",
      "[99, 57, -1, 58]\n",
      "Average Score of Class =  53.5\n",
      "Highest Score in the Class:  99\n",
      "Lowest Score in the Class:  57\n",
      "Number of Absent Students:  1\n"
     ]
    }
   ],
   "source": [
    "import array as arr\n",
    "def accept(mArr, n):\n",
    "    \n",
    "    for i in range (0, n):\n",
    "        m=int(input(\"Enter Marks of Student {}, Enter -1 for absent students: \" .format(i+1)))\n",
    "        mArr.append(m)\n",
    "    print(mArr)\n",
    "\n",
    "def avg(Arr, n):\n",
    "    sum=0\n",
    "    for i in range (0,n):\n",
    "        if Arr[i]>=0:\n",
    "            sum=sum+Arr[i]\n",
    "        avrg=sum/n\n",
    "    print(\"Average Score of Class = \", avrg)\n",
    "    \n",
    "def high1(Arr, n):\n",
    "    high=Arr[0]\n",
    "    for e in (Arr):\n",
    "        if (e>high):\n",
    "            high=e\n",
    "        \n",
    "    print(\"Highest Score in the Class: \", high)\n",
    "    \n",
    "def low1(Arr, n):\n",
    "    low=Arr[0]\n",
    "    for i in range (0, n):\n",
    "        if Arr[i]!=(-1):\n",
    "            for j in range (i+1, n):\n",
    "                if Arr[j]!=(-1):\n",
    "                    if Arr[i]<Arr[j]:\n",
    "                        low=Arr[i]\n",
    "                    else:\n",
    "                        low=Arr[j]\n",
    "    print(\"Lowest Score in the Class: \", low)\n",
    "    \n",
    "def absnt(Arr, n):\n",
    "    count=0\n",
    "    for i in range (0,n):\n",
    "        if (Arr[i]==(-1)):\n",
    "            count=count+1\n",
    "    print(\"Number of Absent Students: \", count)\n",
    "\n",
    "\n",
    "def main():\n",
    "    x=int(input(\"Enter Number of Students: \"))\n",
    "    arr1=[]\n",
    "    \n",
    "    accept(arr1,x)\n",
    "    avg(arr1,x)\n",
    "    high1(arr1,x)\n",
    "    low1(arr1, x)\n",
    "    absnt(arr1,x)\n",
    "main()\n",
    " "
   ]
  },
  {
   "cell_type": "code",
   "execution_count": null,
   "id": "a5cda3e2",
   "metadata": {},
   "outputs": [],
   "source": [
    "            \n",
    "       "
   ]
  },
  {
   "cell_type": "code",
   "execution_count": null,
   "id": "0468e319",
   "metadata": {},
   "outputs": [],
   "source": []
  },
  {
   "cell_type": "markdown",
   "id": "5503f0ce",
   "metadata": {},
   "source": []
  },
  {
   "cell_type": "code",
   "execution_count": null,
   "id": "092bff9d",
   "metadata": {},
   "outputs": [],
   "source": []
  },
  {
   "cell_type": "code",
   "execution_count": 37,
   "id": "ec1ec1ea",
   "metadata": {},
   "outputs": [
    {
     "name": "stdout",
     "output_type": "stream",
     "text": [
      "<class 'int'>\n"
     ]
    }
   ],
   "source": []
  },
  {
   "cell_type": "code",
   "execution_count": null,
   "id": "0f30c040",
   "metadata": {},
   "outputs": [],
   "source": []
  }
 ],
 "metadata": {
  "kernelspec": {
   "display_name": "Python 3 (ipykernel)",
   "language": "python",
   "name": "python3"
  },
  "language_info": {
   "codemirror_mode": {
    "name": "ipython",
    "version": 3
   },
   "file_extension": ".py",
   "mimetype": "text/x-python",
   "name": "python",
   "nbconvert_exporter": "python",
   "pygments_lexer": "ipython3",
   "version": "3.10.11"
  }
 },
 "nbformat": 4,
 "nbformat_minor": 5
}
